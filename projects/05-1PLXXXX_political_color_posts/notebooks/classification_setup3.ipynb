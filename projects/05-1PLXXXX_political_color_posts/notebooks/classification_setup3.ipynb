{
 "cells": [
  {
   "cell_type": "code",
   "execution_count": 17,
   "metadata": {
    "executionInfo": {
     "elapsed": 4,
     "status": "ok",
     "timestamp": 1746100817300,
     "user": {
      "displayName": "Lukas Pasold",
      "userId": "06420352777570022367"
     },
     "user_tz": -120
    },
    "id": "u-fMPSLrp0uO"
   },
   "outputs": [],
   "source": [
    "import pandas as pd\n",
    "from sklearn.ensemble import RandomForestClassifier\n",
    "from sklearn.svm import SVC\n",
    "from sklearn.neural_network import MLPClassifier\n",
    "from sklearn.model_selection import train_test_split\n",
    "from sklearn.preprocessing import StandardScaler\n",
    "from sklearn.metrics import classification_report"
   ]
  },
  {
   "cell_type": "code",
   "execution_count": null,
   "metadata": {
    "executionInfo": {
     "elapsed": 81,
     "status": "ok",
     "timestamp": 1746100818852,
     "user": {
      "displayName": "Lukas Pasold",
      "userId": "06420352777570022367"
     },
     "user_tz": -120
    },
    "id": "XCzYvHdXp3dL"
   },
   "outputs": [],
   "source": [
    "df = pd.read_csv('final-features-rgb.csv')\n",
    "X_full = df[[f'feature_{i}' for i in range(13)]]\n",
    "y_full = df['party']\n",
    "relevant_full = df['relevant']"
   ]
  },
  {
   "cell_type": "code",
   "execution_count": null,
   "metadata": {
    "executionInfo": {
     "elapsed": 19,
     "status": "ok",
     "timestamp": 1746100849804,
     "user": {
      "displayName": "Lukas Pasold",
      "userId": "06420352777570022367"
     },
     "user_tz": -120
    },
    "id": "MukdajBxp_4R"
   },
   "outputs": [],
   "source": [
    "# choose data for training and test sets (depending on column 'relevant')\n",
    "train_relevant = 0  \n",
    "test_relevant = 0  \n",
    "\n",
    "if train_relevant == test_relevant:\n",
    "    mask = (relevant_full == train_relevant)\n",
    "    X_selected = X_full[mask]\n",
    "    y_selected = y_full[mask]\n",
    "    X_train, X_test, y_train, y_test = train_test_split(\n",
    "        X_selected, y_selected, stratify=y_selected, test_size=0.2, random_state=42)\n",
    "else:\n",
    "    X_train = X_full[relevant_full == train_relevant]\n",
    "    y_train = y_full[relevant_full == train_relevant]\n",
    "    X_test = X_full[relevant_full == test_relevant]\n",
    "    y_test = y_full[relevant_full == test_relevant]"
   ]
  },
  {
   "cell_type": "code",
   "execution_count": null,
   "metadata": {
    "executionInfo": {
     "elapsed": 2,
     "status": "ok",
     "timestamp": 1746100851488,
     "user": {
      "displayName": "Lukas Pasold",
      "userId": "06420352777570022367"
     },
     "user_tz": -120
    },
    "id": "b0JINW4aqCDn"
   },
   "outputs": [],
   "source": [
    "def extract_metrics(report):\n",
    "    metrics = {}\n",
    "    lines = report.split(\"\\n\")\n",
    "    for line in lines:\n",
    "        parts = line.split()\n",
    "        if len(parts) >= 5:\n",
    "            label = parts[0]\n",
    "            try:\n",
    "                precision = float(parts[1])\n",
    "                recall = float(parts[2])\n",
    "                f1_score = float(parts[3])\n",
    "                support = int(parts[4])\n",
    "                metrics[label] = {\n",
    "                    'Precision': precision,\n",
    "                    'Recall': recall,\n",
    "                    'F1-Score': f1_score,\n",
    "                    'Support': support\n",
    "                }\n",
    "            except ValueError:\n",
    "                continue\n",
    "    return metrics"
   ]
  },
  {
   "cell_type": "code",
   "execution_count": null,
   "metadata": {
    "colab": {
     "base_uri": "https://localhost:8080/"
    },
    "executionInfo": {
     "elapsed": 6095,
     "status": "ok",
     "timestamp": 1746100858852,
     "user": {
      "displayName": "Lukas Pasold",
      "userId": "06420352777570022367"
     },
     "user_tz": -120
    },
    "id": "CGnG8p28qEUz",
    "outputId": "cec47ed8-6994-455f-d45c-a915a6113b16"
   },
   "outputs": [
    {
     "name": "stdout",
     "output_type": "stream",
     "text": [
      "=== Random Forest ===\n",
      "              precision    recall  f1-score   support\n",
      "\n",
      "         afd       0.59      0.35      0.44       172\n",
      "         cdu       0.35      0.53      0.43       525\n",
      "         csu       0.36      0.42      0.39       498\n",
      "         fdp       0.60      0.22      0.33       161\n",
      "      gruene       0.50      0.24      0.33       211\n",
      "       linke       0.48      0.48      0.48       406\n",
      "         spd       0.32      0.23      0.27       256\n",
      "\n",
      "    accuracy                           0.40      2229\n",
      "   macro avg       0.46      0.36      0.38      2229\n",
      "weighted avg       0.42      0.40      0.39      2229\n",
      "\n"
     ]
    }
   ],
   "source": [
    "# 1. Random Forest \n",
    "rf = RandomForestClassifier(class_weight='balanced', random_state=42)\n",
    "rf.fit(X_train, y_train)\n",
    "y_pred_rf = rf.predict(X_test)\n",
    "report_rf = classification_report(y_test, y_pred_rf)\n",
    "metrics_rf = extract_metrics(report_rf)\n",
    "print(\"=== Random Forest ===\")\n",
    "print(report_rf)"
   ]
  },
  {
   "cell_type": "code",
   "execution_count": null,
   "metadata": {
    "colab": {
     "base_uri": "https://localhost:8080/"
    },
    "executionInfo": {
     "elapsed": 12430,
     "status": "ok",
     "timestamp": 1746100384460,
     "user": {
      "displayName": "Lukas Pasold",
      "userId": "06420352777570022367"
     },
     "user_tz": -120
    },
    "id": "3OMk7jFJqG0j",
    "outputId": "016a1ca1-6cfd-4ab6-f8d5-8264dcfce6b4"
   },
   "outputs": [
    {
     "name": "stdout",
     "output_type": "stream",
     "text": [
      "=== Support Vector Machine (SVM) ===\n",
      "              precision    recall  f1-score   support\n",
      "\n",
      "         afd       0.58      0.69      0.63       239\n",
      "         cdu       0.53      0.70      0.60       613\n",
      "         csu       0.69      0.66      0.67       857\n",
      "         fdp       0.93      0.86      0.89       680\n",
      "      gruene       0.83      0.68      0.75       321\n",
      "       linke       0.67      0.50      0.57       440\n",
      "         spd       0.61      0.64      0.62       307\n",
      "\n",
      "    accuracy                           0.69      3457\n",
      "   macro avg       0.69      0.67      0.68      3457\n",
      "weighted avg       0.70      0.69      0.69      3457\n",
      "\n"
     ]
    }
   ],
   "source": [
    "# 2. Support Vector Machine (SVM) \n",
    "scaler = StandardScaler()\n",
    "X_train_scaled = scaler.fit_transform(X_train)\n",
    "X_test_scaled = scaler.transform(X_test)\n",
    "\n",
    "svm = SVC(kernel='rbf', class_weight='balanced', random_state=42)\n",
    "svm.fit(X_train_scaled, y_train)\n",
    "y_pred_svm = svm.predict(X_test_scaled)\n",
    "report_svm = classification_report(y_test, y_pred_svm)\n",
    "metrics_svm = extract_metrics(report_svm)\n",
    "print(\"=== Support Vector Machine (SVM) ===\")\n",
    "print(report_svm)"
   ]
  },
  {
   "cell_type": "code",
   "execution_count": null,
   "metadata": {
    "colab": {
     "base_uri": "https://localhost:8080/"
    },
    "executionInfo": {
     "elapsed": 102916,
     "status": "ok",
     "timestamp": 1746100575288,
     "user": {
      "displayName": "Lukas Pasold",
      "userId": "06420352777570022367"
     },
     "user_tz": -120
    },
    "id": "qAvppV-9qIwy",
    "outputId": "018d3a26-4159-40d2-9cbd-bb62567dbbcb"
   },
   "outputs": [
    {
     "name": "stdout",
     "output_type": "stream",
     "text": [
      "=== MLP Classifier ===\n",
      "              precision    recall  f1-score   support\n",
      "\n",
      "         afd       0.72      0.62      0.66       239\n",
      "         cdu       0.55      0.68      0.61       613\n",
      "         csu       0.65      0.69      0.67       857\n",
      "         fdp       0.91      0.86      0.89       680\n",
      "      gruene       0.78      0.67      0.72       321\n",
      "       linke       0.66      0.55      0.60       440\n",
      "         spd       0.61      0.61      0.61       307\n",
      "\n",
      "    accuracy                           0.69      3457\n",
      "   macro avg       0.70      0.67      0.68      3457\n",
      "weighted avg       0.70      0.69      0.69      3457\n",
      "\n"
     ]
    }
   ],
   "source": [
    "# 3. MLP Classifier \n",
    "mlp = MLPClassifier(\n",
    "    hidden_layer_sizes=(128, 64),\n",
    "    activation='relu',\n",
    "    learning_rate_init=0.001,\n",
    "    max_iter=1000,\n",
    "    alpha=0.0001,\n",
    "    random_state=42\n",
    ")\n",
    "\n",
    "mlp.fit(X_train_scaled, y_train)\n",
    "y_pred_mlp = mlp.predict(X_test_scaled)\n",
    "report_mlp = classification_report(y_test, y_pred_mlp)\n",
    "metrics_mlp = extract_metrics(report_mlp)\n",
    "print(\"=== MLP Classifier ===\")\n",
    "print(report_mlp)"
   ]
  },
  {
   "cell_type": "code",
   "execution_count": null,
   "metadata": {
    "colab": {
     "base_uri": "https://localhost:8080/"
    },
    "executionInfo": {
     "elapsed": 8,
     "status": "ok",
     "timestamp": 1746100621799,
     "user": {
      "displayName": "Lukas Pasold",
      "userId": "06420352777570022367"
     },
     "user_tz": -120
    },
    "id": "QRYegJB5pjU7",
    "outputId": "be7dc02a-d498-47f9-d252-881686588467"
   },
   "outputs": [
    {
     "name": "stdout",
     "output_type": "stream",
     "text": [
      "=== Modellvergleich ===\n",
      "         Random Forest   SVM   MLP  Average\n",
      "fdp               0.92  0.89  0.89     0.90\n",
      "gruene            0.80  0.75  0.72     0.76\n",
      "Average           0.74  0.68  0.68     0.70\n",
      "csu               0.72  0.67  0.67     0.69\n",
      "afd               0.71  0.63  0.66     0.67\n",
      "spd               0.70  0.62  0.61     0.64\n",
      "cdu               0.65  0.60  0.61     0.62\n",
      "linke             0.69  0.57  0.60     0.62\n"
     ]
    }
   ],
   "source": [
    "metrics_all = {}\n",
    "\n",
    "for label in metrics_rf:\n",
    "    metrics_all[label] = {\n",
    "        'Random Forest': metrics_rf[label]['F1-Score'],\n",
    "        'SVM': metrics_svm.get(label, {}).get('F1-Score', 0),\n",
    "        'MLP': metrics_mlp.get(label, {}).get('F1-Score', 0)\n",
    "    }\n",
    "\n",
    "metrics_df = pd.DataFrame(metrics_all).T\n",
    "\n",
    "metrics_df[\"Average\"] = metrics_df.mean(axis=1)\n",
    "\n",
    "average_row = metrics_df.mean(numeric_only=True)\n",
    "average_row.name = \"Average\"\n",
    "metrics_df = pd.concat([metrics_df, average_row.to_frame().T])\n",
    "\n",
    "metrics_df = metrics_df.sort_values(by=\"Average\", ascending=False)\n",
    "\n",
    "# Output\n",
    "print(\"=== Modellvergleich ===\")\n",
    "print(metrics_df.round(2))"
   ]
  }
 ],
 "metadata": {
  "colab": {
   "authorship_tag": "ABX9TyOA1S+yBFkqin2twu51Oafs",
   "provenance": []
  },
  "kernelspec": {
   "display_name": "Python 3 (ipykernel)",
   "language": "python",
   "name": "python3"
  },
  "language_info": {
   "codemirror_mode": {
    "name": "ipython",
    "version": 3
   },
   "file_extension": ".py",
   "mimetype": "text/x-python",
   "name": "python",
   "nbconvert_exporter": "python",
   "pygments_lexer": "ipython3",
   "version": "3.12.8"
  }
 },
 "nbformat": 4,
 "nbformat_minor": 4
}
