{
 "cells": [
  {
   "cell_type": "markdown",
   "id": "2382f386-48c7-4d9c-8f38-08b25708c4e9",
   "metadata": {},
   "source": [
    "**Setup** <br>\n",
    "Run the code bellow to set up the necessary packages and download the data\n"
   ]
  },
  {
   "cell_type": "code",
   "execution_count": 3,
   "id": "3caaa245-c136-466f-acec-47004143b446",
   "metadata": {},
   "outputs": [],
   "source": [
    "!pip install -q pandas \n",
    "!pip install -q scikit-learn\n",
    "!pip install -q numpy \n",
    "!pip install -q seaborn\n",
    "!pip install -q matplotlib\n",
    "\n",
    "import sys\n",
    "sys.path.append(\"/home/sc.uni-leipzig.de/ci72buri/.local/lib/python3.12/site-packages\") \n",
    "#Replace with your packet location\n",
    "\n",
    "import pandas as pd\n",
    "import sklearn\n",
    "import numpy as np\n",
    "import seaborn as sns\n",
    "import matplotlib.pyplot as plt\n",
    "from scipy.stats import zscore\n",
    "from statistics import mean, median"
   ]
  },
  {
   "cell_type": "code",
   "execution_count": 21,
   "id": "2c8d7b7a-ae1e-4d2f-ba52-eb75ff720f0c",
   "metadata": {},
   "outputs": [],
   "source": [
    "#---------------------------------------------------------Functions-----------------------------------------------------------------------------\n",
    "def group_rare_categories(df, threshold=0.01, columns=None, placeholder=\"other\"):\n",
    "    \"\"\"\n",
    "    Ersetzt seltene Kategorien (< threshold Anteil) durch einen Platzhalterwert.\n",
    "    \n",
    "    Args:\n",
    "        df: Pandas DataFrame\n",
    "        threshold: minimale Häufigkeit (relativ) – z.B. 0.01 = 1%\n",
    "        columns: Liste von Spaltennamen (falls None: alle object/categorical)\n",
    "        placeholder: Wert, der anstelle seltener Kategorien eingesetzt wird\n",
    "        \n",
    "    Returns:\n",
    "        DataFrame mit ersetzten Kategorien\n",
    "    \"\"\"\n",
    "    df_copy = df.copy()\n",
    "    n_rows = len(df_copy)\n",
    "    \n",
    "    if columns is None:\n",
    "        columns = df_copy.select_dtypes(include=['object', 'category']).columns.tolist()\n",
    "\n",
    "    for col in columns:\n",
    "        freqs = df_copy[col].value_counts(normalize=True)\n",
    "        rare_values = freqs[freqs < threshold].index\n",
    "        df_copy[col] = df_copy[col].apply(lambda x: placeholder if x in rare_values else x)\n",
    "    \n",
    "    return df_copy\n",
    "#-------------------------------------------------------------------------------------------------------------------------------------------------\n",
    "def compute_entropy(series):\n",
    "    probs = series.value_counts(normalize=True, dropna=False)\n",
    "    return -np.sum(probs * np.log2(probs + 1e-9))  # add small value to avoid log(0)\n",
    "#-------------------------------------------------------------------------------------------------------------------------------------------------"
   ]
  },
  {
   "cell_type": "markdown",
   "id": "4293f791-ea22-4e08-b884-3d3c51cf58a8",
   "metadata": {},
   "source": [
    "**Introduction** <br>\n",
    "This project works with a health dataset. The evaluation is done blind meaning that features will be chosen based on the statistics of the columns. The goal of this task is to a build a data classifier that is able to predict wheter someone will be classified with diabetes or not.\n"
   ]
  },
  {
   "cell_type": "code",
   "execution_count": 5,
   "id": "5f27d7d5-9e99-4cef-8b0d-51b753612536",
   "metadata": {},
   "outputs": [],
   "source": [
    "df = pd.read_csv(\"adultos_ensanut2023_w_n.csv\", sep=\";\")\n"
   ]
  },
  {
   "cell_type": "markdown",
   "id": "6f0f46b8-cedd-4c5d-a73b-5a16a8dacaf4",
   "metadata": {},
   "source": [
    "**Data Exploration & Cleaning**\n",
    "\n",
    "\n",
    "\n"
   ]
  },
  {
   "cell_type": "code",
   "execution_count": 18,
   "id": "c923dc11-76e9-47bf-b1f5-67aafe297e2b",
   "metadata": {},
   "outputs": [
    {
     "name": "stdout",
     "output_type": "stream",
     "text": [
      "---General Information about the dataset---\n",
      "Shape of the dataset: (5569, 758)\n",
      "Data types \n",
      "object     675\n",
      "int64       75\n",
      "float64      8\n",
      "Name: count, dtype: int64\n"
     ]
    }
   ],
   "source": [
    "print('---General Information about the dataset---')\n",
    "print(f\"Shape of the dataset: {df.shape}\")\n",
    "dtype_counts = df.dtypes.value_counts()\n",
    "print(f\"Data types \\n{dtype_counts}\")\n",
    "#Dataset dominated by object features (presumably Strings) and some numeric data"
   ]
  },
  {
   "cell_type": "markdown",
   "id": "189dd304-4ce6-4b91-a48d-9f1951106a41",
   "metadata": {},
   "source": [
    "***Missing values***\n"
   ]
  },
  {
   "cell_type": "code",
   "execution_count": 20,
   "id": "04b052d4-55a8-4b10-aa0d-545d2bd2712a",
   "metadata": {},
   "outputs": [
    {
     "name": "stdout",
     "output_type": "stream",
     "text": [
      "\n",
      "---Na values in the dataset---\n",
      "Number of columns without entry: 159\n",
      "Max na count: 1\n",
      "Mean na count: 0.20976253298153033\n",
      "Median na count: 0.0\n"
     ]
    }
   ],
   "source": [
    "print('\\n---Na values in the dataset---')\n",
    "na_counts = df.isna().sum()\n",
    "print(f\"Number of columns without entry: {len(na_counts[na_counts > 0])}\")\n",
    "print(f\"Max na count: {max(na_counts)}\")\n",
    "print(f\"Mean na count: {mean(na_counts)}\")\n",
    "print(f\"Median na count: {median(na_counts)}\")\n",
    "#There are some missing values but the majority of features is complete"
   ]
  },
  {
   "cell_type": "markdown",
   "id": "b5ac102a-3127-4063-b39f-7803e18e5f8f",
   "metadata": {},
   "source": [
    "***Empty strings***"
   ]
  },
  {
   "cell_type": "code",
   "execution_count": null,
   "id": "84c048f4-9b44-4bd7-ac22-d0673155f618",
   "metadata": {},
   "outputs": [],
   "source": [
    "print('\\n---Empty strings in the dataset')\n",
    "empty_str_counts = (df == '').sum()\n",
    "print(f\"Number of columns with empty strings: {(empty_str_counts > 0).sum()}\")\n",
    "print(f\"Max empty string count: {empty_str_counts.max()}\")\n",
    "print(f\"Mean empty string count: {empty_str_counts.mean()}\")\n",
    "print(f\"Median empty string count: {empty_str_counts.median()}\")\n",
    "#No empty strings\n"
   ]
  },
  {
   "cell_type": "markdown",
   "id": "17ede62a-09ae-4052-848f-f0de9bc97d87",
   "metadata": {},
   "source": [
    "***Unique value statistics for the categorical data***"
   ]
  },
  {
   "cell_type": "code",
   "execution_count": null,
   "id": "2528500f-4238-4e59-9181-f5afd53b535b",
   "metadata": {},
   "outputs": [],
   "source": [
    "print(\"\\n--- Summary statistics of unique value counts (string columns) ---\")\n",
    "# Select string columns\n",
    "string_cols = df.select_dtypes(include=['object', 'category'])\n",
    "\n",
    "# Count unique values per column\n",
    "unique_counts = string_cols.nunique(dropna=False).sort_values()\n",
    "print(f\"Min:    {unique_counts.min()}\")\n",
    "print(f\"Max:    {unique_counts.max()}\")\n",
    "print(f\"Mean:   {unique_counts.mean():.2f}\")\n",
    "print(f\"Median: {unique_counts.median()}\")\n",
    "print(f\"Std:    {unique_counts.std():.2f}\")\n",
    "\n",
    "quantiles = unique_counts.quantile([0.25, 0.5, 0.75, 0.9, 0.95, 0.99])\n",
    "print(\"\\nQuantiles:\")\n",
    "print(quantiles)\n",
    "\n",
    "# PMF: frequency of unique counts\n",
    "pmf = unique_counts.value_counts(normalize=True).sort_index()\n",
    "\n",
    "# CMF: cumulative probability\n",
    "cmf = pmf.cumsum()\n",
    "\n",
    "# --- Plot PMF ---\n",
    "plt.figure(figsize=(10, 4))\n",
    "sns.barplot(x=pmf.index, y=pmf.values, hue=pmf.index, palette=\"Blues_d\", legend=False)\n",
    "plt.title(\"PMF of Unique Value Counts in String Columns\")\n",
    "plt.xlabel(\"Number of Unique Values\")\n",
    "plt.ylabel(\"Probability\")\n",
    "plt.xticks(rotation=90)\n",
    "plt.tight_layout()\n",
    "plt.show()\n",
    "\n",
    "# --- Plot CMF ---\n",
    "plt.figure(figsize=(10, 4))\n",
    "sns.barplot(x=cmf.index, y=cmf.values, hue=cmf.index, palette=\"Blues_d\", legend=False)\n",
    "plt.title(\"CMF of Unique Value Counts in String Columns\")\n",
    "plt.xlabel(\"Number of Unique Values\")\n",
    "plt.ylabel(\"Probability\")\n",
    "plt.xticks(rotation=90)\n",
    "plt.tight_layout()\n",
    "plt.show()"
   ]
  },
  {
   "cell_type": "markdown",
   "id": "c3dbdec5-927c-4bb1-a027-93a9c9d68ec5",
   "metadata": {},
   "source": [
    "***Entropy of the categorical data***"
   ]
  },
  {
   "cell_type": "code",
   "execution_count": 25,
   "id": "19650bf6-cb22-427c-8586-c9ac63073db4",
   "metadata": {},
   "outputs": [
    {
     "name": "stdout",
     "output_type": "stream",
     "text": [
      "\n",
      "---Entropy of categorical (string) columns---\n",
      "Min:    -1.4426951595367387e-09\n",
      "Max:    12.443194542950705\n",
      "Mean:   0.65\n",
      "Median: 0.274096166799631\n",
      "Std:    1.44\n",
      "\n",
      "Quantiles:\n",
      "0.25    0.027326\n",
      "0.50    0.274096\n",
      "0.75    0.784722\n",
      "0.90    1.277250\n",
      "0.95    1.894392\n",
      "0.99    8.689685\n",
      "dtype: float64\n"
     ]
    },
    {
     "data": {
      "image/png": "[encoded data removed]",
      "text/plain": [
       "<Figure size 1000x400 with 1 Axes>"
      ]
     },
     "metadata": {},
     "output_type": "display_data"
    },
    {
     "data": {
      "image/png": "[encoded data removed]",
      "text/plain": [
       "<Figure size 1000x400 with 1 Axes>"
      ]
     },
     "metadata": {},
     "output_type": "display_data"
    }
   ],
   "source": [
    "print(\"\\n---Entropy of categorical (string) columns---\")\n",
    "# Compute entropy per column\n",
    "entropy_values = string_cols.apply(compute_entropy).sort_values(ascending=False)\n",
    "\n",
    "# Display\n",
    "print(f\"Min:    {entropy_values.min()}\")\n",
    "print(f\"Max:    {entropy_values.max()}\")\n",
    "print(f\"Mean:   {entropy_values.mean():.2f}\")\n",
    "print(f\"Median: {entropy_values.median()}\")\n",
    "print(f\"Std:    {entropy_values.std():.2f}\")\n",
    "\n",
    "quantiles = entropy_values.quantile([0.25, 0.5, 0.75, 0.9, 0.95, 0.99])\n",
    "print(\"\\nQuantiles:\")\n",
    "print(quantiles)\n",
    "\n",
    "# Convert to Series if not already\n",
    "entropy_series = pd.Series(entropy_values)\n",
    "\n",
    "# Calculate PMF: frequency normalized\n",
    "pmf = entropy_series.value_counts(normalize=True).sort_index()\n",
    "\n",
    "# Calculate CMF: cumulative sum of PMF\n",
    "cmf = pmf.cumsum()\n",
    "\n",
    "# Assume entropy_values is a pandas Series or list\n",
    "\n",
    "# --- Continuous PMF approximation using KDE ---\n",
    "plt.figure(figsize=(10, 4))\n",
    "sns.kdeplot(entropy_values, bw_adjust=0.5, fill=True, color=\"blue\")\n",
    "plt.title(\"Smoothed PMF (KDE) of Entropy in String Columns\")\n",
    "plt.xlabel(\"Entropy\")\n",
    "plt.ylabel(\"Density\")\n",
    "plt.tight_layout()\n",
    "plt.show()\n",
    "\n",
    "# --- Continuous CMF plot (Empirical CDF) ---\n",
    "plt.figure(figsize=(10, 4))\n",
    "sns.ecdfplot(entropy_values, color=\"darkorange\")\n",
    "plt.title(\"CMF (Empirical CDF) of Entropy in String Columns\")\n",
    "plt.xlabel(\"Entropy\")\n",
    "plt.ylabel(\"Cumulative Probability\")\n",
    "plt.tight_layout()\n",
    "plt.show()"
   ]
  },
  {
   "cell_type": "markdown",
   "id": "02a2c2f6-19b0-41bc-9615-c54ba0730d27",
   "metadata": {},
   "source": [
    "**Split up Dataset** <br>\n",
    "The question that is tackled in this project is building a classifier that determines wheter a probant is / could potentially be diagnosed with diabetes <br>\n",
    "Wether a patient was diagnosed with diabetes or not is represented in column 'a0301'. <br>\n",
    "The diagnosis is represented as number from 1-3 with: <br>\n",
    "1 -> Yes <br>\n",
    "2 -> Yes, during pregnancy <br>\n",
    "3 -> No <br>\n",
    "<br>\n",
    "The dataset is split up in target (a0301) and feartures (everything but a0301). The rows where a0301 is missing are dropped for lack of information. <br>\n",
    "Afterwards, we fill the numeric features that are missing with the average of the observations assuming that the values are missing at random."
   ]
  },
  {
   "cell_type": "code",
   "execution_count": 15,
   "id": "59f63013-bdea-4257-89c7-11a494f333be",
   "metadata": {
    "scrolled": true
   },
   "outputs": [],
   "source": [
    "\n",
    "'''\n",
    "    Which food factors increase the risk of diabetes?\n",
    "'''\n",
    "\n",
    "#Remove row is target variable is missing\n",
    "df = df[df['a0301'].notna()]\n",
    "\n",
    "#A0301: Did a doctor tell you that you have diabetes? 3 classes: 1 -> Yes, 2 -> Yes, during pregnancy, 3 -> No (Multiclass classification)\n",
    "target_ohe = pd.get_dummies(df['a0301'], prefix='diabetes') #One hot encoded vector (X,1) -> (X, 3)\n",
    "\n",
    "features = df.drop('a0301', axis=1) #Feature matrix (X, N), X = Number of samples, N = Numberof Features\n",
    "\n",
    "\n",
    "\n"
   ]
  },
  {
   "cell_type": "markdown",
   "id": "40781e22-faab-4ece-93c3-4970cf6398ff",
   "metadata": {},
   "source": [
    "**Data Cleaning**"
   ]
  },
  {
   "cell_type": "code",
   "execution_count": 20,
   "id": "3b9a32de-cb82-431b-8472-37db15ddf938",
   "metadata": {},
   "outputs": [
    {
     "name": "stdout",
     "output_type": "stream",
     "text": [
      "a13a11bf    1\n",
      "a13a11bv    1\n",
      "a13a10b     1\n",
      "a13a9b      1\n",
      "a13a8b      1\n",
      "dtype: int64\n",
      "Unique values before cleaning: fech_nac      4908\n",
      "FOLIO_I       4443\n",
      "ponde_f       3729\n",
      "hora_fin_2     393\n",
      "hora_ini_2     392\n",
      "dtype: int64\n",
      "High-cardinality columns to drop: []\n",
      "Unique values after cleaning: fech_nac    4908\n",
      "tiempo       165\n",
      "tiempo1      161\n",
      "edad          77\n",
      "aedad         77\n",
      "dtype: int64\n",
      "(5568, 686)\n"
     ]
    }
   ],
   "source": [
    "#Replacing NA with the mean of the column -> Assumption: values are missing at random\n",
    "features = features.fillna(features.mean(numeric_only=True))\n",
    "\n",
    "print(features.isna().sum().sort_values(ascending=False).head())\n",
    "\n",
    "features = features.dropna()\n",
    "\n",
    "unique_counts = features.nunique().sort_values(ascending=False)\n",
    "\n",
    "print(f\"Unique values before cleaning: {unique_counts.head()}\")\n",
    "\n",
    "# Drop columns with only one unique value (including NaNs if dropna=False)\n",
    "df = df.loc[:, df.nunique(dropna=False) > 1]\n",
    "\n",
    "# Define threshold: if more than 90% of values are unique, drop\n",
    "threshold = 0.9\n",
    "n_rows = len(features)\n",
    "\n",
    "high_card_cols = [\n",
    "    col for col in features.columns\n",
    "    if not pd.api.types.is_numeric_dtype(features[col]) and features[col].nunique() / n_rows > threshold\n",
    "]\n",
    "\n",
    "print(\"High-cardinality columns to drop:\", high_card_cols)\n",
    "\n",
    "# Drop them\n",
    "features = features.drop(columns=high_card_cols)\n",
    "\n",
    "# Drop rare categories in a column\n",
    "features = group_rare_categories(features, threshold=0.01, placeholder=\"other\")\n",
    "\n",
    "unique_counts = features.nunique().sort_values(ascending=False)\n",
    "\n",
    "print(f\"Unique values after cleaning: {unique_counts.head()}\")\n",
    "\n",
    "# Chooses X% columns with the highest variance\n",
    "percent = 20\n",
    "if not (0 < percent <= 100):\n",
    "    raise ValueError(\"Percent must be between 0 and 100 (exclusive of 0).\")\n",
    "\n",
    "# Select numeric columns\n",
    "numeric_df = features.select_dtypes(include='number')\n",
    "\n",
    "# Compute variance\n",
    "variances = numeric_df.var()\n",
    "\n",
    "# Determine number of columns to keep\n",
    "n_select = max(1, int(len(variances) * (percent / 100)))\n",
    "\n",
    "# Get top columns by variance\n",
    "top_columns = variances.sort_values(ascending=False).head(n_select).index\n",
    "\n",
    "#Get the columns that are to be dropped\n",
    "drop_col = variances.index.difference(top_columns)\n",
    "\n",
    "#Drop the columns\n",
    "features = features.drop(columns=drop_col)\n",
    "print(features.shape)"
   ]
  },
  {
   "cell_type": "markdown",
   "id": "f48ab91c-e78e-40f3-8520-e0d58dd3f032",
   "metadata": {},
   "source": [
    "**Post data cleaning inspection**"
   ]
  },
  {
   "cell_type": "code",
   "execution_count": null,
   "id": "bee2d0b7-464c-4a74-a126-4431ef0d4f9f",
   "metadata": {},
   "outputs": [],
   "source": [
    "print('---General Information about the dataset---')\n",
    "print(f\"Shape of the dataset: {df.shape}\")\n",
    "dtype_counts = df.dtypes.value_counts()\n",
    "print(f\"Data types \\n{dtype_counts}\")\n",
    "\n",
    "print('\\n---Na values in the dataset---')\n",
    "na_counts = df.isna().sum()\n",
    "print(f\"Number of columns without entry: {len(na_counts[na_counts > 0])}\")\n",
    "print(f\"Max na count: {max(na_counts)}\")\n",
    "print(f\"Mean na count: {mean(na_counts)}\")\n",
    "print(f\"Median na count: {median(na_counts)}\")\n",
    "\n",
    "print('\\n---Empty strings in the dataset')\n",
    "empty_str_counts = (df == '').sum()\n",
    "print(f\"Number of columns with empty strings: {(empty_str_counts > 0).sum()}\")\n",
    "print(f\"Max empty string count: {empty_str_counts.max()}\")\n",
    "print(f\"Mean empty string count: {empty_str_counts.mean()}\")\n",
    "print(f\"Median empty string count: {empty_str_counts.median()}\")\n",
    "\n",
    "print('\\n---Unique values ')\n",
    "string_cols = df.select_dtypes(include=['object', 'category'])\n",
    "\n",
    "unique_counts = string_cols.nunique(dropna=False).sort_values()\n",
    "\n",
    "pmf = unique_counts.value_counts(normalize=True).sort_index()\n",
    "\n",
    "cmf = pmf.cumsum()\n",
    "\n",
    "# --- Plot PMF ---\n",
    "plt.figure(figsize=(10, 4))\n",
    "sns.barplot(x=pmf.index, y=pmf.values, hue=pmf.index, palette=\"Blues_d\", legend=False)\n",
    "plt.title(\"PMF of Unique Value Counts in String Columns\")\n",
    "plt.xlabel(\"Number of Unique Values\")\n",
    "plt.ylabel(\"Probability\")\n",
    "plt.xticks(rotation=90)\n",
    "plt.tight_layout()\n",
    "plt.show()"
   ]
  },
  {
   "cell_type": "code",
   "execution_count": null,
   "id": "453d9751-d855-4d8c-8c5c-a824dcb5f094",
   "metadata": {},
   "outputs": [],
   "source": []
  }
 ],
 "metadata": {
  "kernelspec": {
   "display_name": "Python 3 (ipykernel)",
   "language": "python",
   "name": "python3"
  },
  "language_info": {
   "codemirror_mode": {
    "name": "ipython",
    "version": 3
   },
   "file_extension": ".py",
   "mimetype": "text/x-python",
   "name": "python",
   "nbconvert_exporter": "python",
   "pygments_lexer": "ipython3",
   "version": "3.12.8"
  }
 },
 "nbformat": 4,
 "nbformat_minor": 5
}
