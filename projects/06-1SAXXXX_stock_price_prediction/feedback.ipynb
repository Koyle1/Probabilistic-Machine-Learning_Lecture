{
 "cells": [
  {
   "cell_type": "markdown",
   "id": "bb92c40f",
   "metadata": {},
   "source": [
    "# COMMENTS:\n",
    "\n",
    "- [23.Mai.2025] Please start exploring your dataset(s), provide a general description of it: Spurce of the data and its general meaning and contents, number of samples, number of features, etc., and then provide a summary of the data types and missing values.\n",
    "  You can already include that progress of cleaning the data and its description in the report. "
   ]
  },
  {
   "cell_type": "markdown",
   "id": "edfdb98d",
   "metadata": {},
   "source": []
  }
 ],
 "metadata": {
  "kernelspec": {
   "display_name": "Python 3 (ipykernel)",
   "language": "python",
   "name": "python3"
  },
  "language_info": {
   "codemirror_mode": {
    "name": "ipython",
    "version": 3
   },
   "file_extension": ".py",
   "mimetype": "text/x-python",
   "name": "python",
   "nbconvert_exporter": "python",
   "pygments_lexer": "ipython3",
   "version": "3.12.8"
  }
 },
 "nbformat": 4,
 "nbformat_minor": 5
}
